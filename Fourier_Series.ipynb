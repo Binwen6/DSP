{
 "cells": [
  {
   "cell_type": "markdown",
   "metadata": {},
   "source": [
    "# Import Required Libraries\n",
    "Import the necessary libraries, including NumPy and Matplotlib."
   ]
  },
  {
   "cell_type": "code",
   "execution_count": 1,
   "metadata": {},
   "outputs": [],
   "source": [
    "import numpy as np\n",
    "import matplotlib.pyplot as plt"
   ]
  },
  {
   "cell_type": "markdown",
   "metadata": {},
   "source": [
    "# Define the Periodic Function\n",
    "Define the periodic function f(x) with period T."
   ]
  },
  {
   "cell_type": "code",
   "execution_count": null,
   "metadata": {},
   "outputs": [],
   "source": [
    "# Define the period T\n",
    "T = 2 * np.pi\n",
    "\n",
    "# Define the periodic function f(x)\n",
    "def f(x):\n",
    "    return np.sin(x)  # Example periodic function\n",
    "\n",
    "# Generate x values\n",
    "x = np.linspace(0, T, 1000)\n",
    "\n",
    "# Compute the function values\n",
    "y = f(x)\n",
    "\n",
    "# Plot the function\n",
    "plt.plot(x, y, label='f(x) = sin(x)')\n",
    "plt.xlabel('x')\n",
    "plt.ylabel('f(x)')\n",
    "plt.title('Periodic Function f(x) with Period T')\n",
    "plt.legend()\n",
    "plt.grid(True)\n",
    "plt.show()"
   ]
  },
  {
   "cell_type": "markdown",
   "metadata": {},
   "source": [
    "# Calculate the Fourier Coefficients\n",
    "Calculate the Fourier coefficients a0, an, and bn using integration."
   ]
  },
  {
   "cell_type": "code",
   "execution_count": null,
   "metadata": {},
   "outputs": [],
   "source": [
    "# Calculate the Fourier Coefficients\n",
    "\n",
    "import sympy as sp\n",
    "\n",
    "# Define the symbolic variable\n",
    "x = sp.symbols('x')\n",
    "\n",
    "# Define the period T\n",
    "T = 2 * sp.pi\n",
    "\n",
    "# Define the periodic function f(x)\n",
    "f = sp.sin(x)  # Example periodic function\n",
    "\n",
    "# Calculate a0\n",
    "a0 = (2 / T) * sp.integrate(f, (x, 0, T))\n",
    "\n",
    "# Calculate an\n",
    "n = sp.symbols('n', integer=True)\n",
    "an = (2 / T) * sp.integrate(f * sp.cos(n * 2 * sp.pi * x / T), (x, 0, T))\n",
    "\n",
    "# Calculate bn\n",
    "bn = (2 / T) * sp.integrate(f * sp.sin(n * 2 * sp.pi * x / T), (x, 0, T))\n",
    "\n",
    "# Display the coefficients\n",
    "a0, an, bn"
   ]
  },
  {
   "cell_type": "markdown",
   "metadata": {},
   "source": [
    "# Construct the Fourier Series\n",
    "Construct the Fourier series using the calculated coefficients."
   ]
  },
  {
   "cell_type": "code",
   "execution_count": null,
   "metadata": {},
   "outputs": [],
   "source": [
    "# Construct the Fourier Series\n",
    "\n",
    "# Define the number of terms in the Fourier series\n",
    "N = 10\n",
    "\n",
    "# Define the Fourier series\n",
    "fourier_series = a0 / 2  # Start with the a0 term\n",
    "\n",
    "# Add the an and bn terms\n",
    "for n_val in range(1, N + 1):\n",
    "    an_val = an.subs(n, n_val)\n",
    "    bn_val = bn.subs(n, n_val)\n",
    "    fourier_series += an_val * sp.cos(n_val * 2 * sp.pi * x / T) + bn_val * sp.sin(n_val * 2 * sp.pi * x / T)\n",
    "\n",
    "# Simplify the Fourier series\n",
    "fourier_series = sp.simplify(fourier_series)\n",
    "\n",
    "# Display the Fourier series\n",
    "fourier_series"
   ]
  },
  {
   "cell_type": "markdown",
   "metadata": {},
   "source": [
    "# Visualize the Fourier Series\n",
    "Use Matplotlib to visualize the original function and its Fourier series approximation."
   ]
  },
  {
   "cell_type": "code",
   "execution_count": null,
   "metadata": {},
   "outputs": [],
   "source": [
    "# Visualize the Fourier Series\n",
    "\n",
    "# Convert the symbolic Fourier series to a numerical function\n",
    "fourier_series_func = sp.lambdify(x, fourier_series, 'numpy')\n",
    "\n",
    "# Generate x values\n",
    "x_vals = np.linspace(0, float(T), 1000)\n",
    "\n",
    "# Compute the Fourier series approximation values\n",
    "y_fourier = fourier_series_func(x_vals)\n",
    "\n",
    "# Plot the original function and its Fourier series approximation\n",
    "plt.plot(x_vals, np.sin(x_vals), label='Original function f(x) = sin(x)')\n",
    "plt.plot(x_vals, y_fourier, label='Fourier series approximation')\n",
    "plt.xlabel('x')\n",
    "plt.ylabel('f(x)')\n",
    "plt.title('Original Function and Fourier Series Approximation')\n",
    "plt.legend()\n",
    "plt.grid(True)\n",
    "plt.show()"
   ]
  }
 ],
 "metadata": {
  "kernelspec": {
   "display_name": "dsp",
   "language": "python",
   "name": "python3"
  },
  "language_info": {
   "codemirror_mode": {
    "name": "ipython",
    "version": 3
   },
   "file_extension": ".py",
   "mimetype": "text/x-python",
   "name": "python",
   "nbconvert_exporter": "python",
   "pygments_lexer": "ipython3",
   "version": "3.12.7"
  }
 },
 "nbformat": 4,
 "nbformat_minor": 2
}
